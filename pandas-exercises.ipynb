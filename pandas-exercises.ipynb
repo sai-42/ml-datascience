{
 "cells": [
  {
   "cell_type": "markdown",
   "metadata": {},
   "source": [
    "# Pandas Practice\n",
    "\n",
    "This notebook is dedicated to practicing different tasks with pandas. The solutions are available in a solutions notebook, however, you should always try to figure them out yourself first.\n",
    "\n",
    "It should be noted there may be more than one different way to answer a question or complete an exercise.\n",
    "\n",
    "Exercises are based off (and directly taken from) the quick introduction to pandas notebook.\n",
    "\n",
    "Different tasks will be detailed by comments or text.\n",
    "\n",
    "For further reference and resources, it's advised to check out the [pandas documentation](https://pandas.pydata.org/pandas-docs/stable/)."
   ]
  },
  {
   "cell_type": "code",
   "execution_count": 1,
   "metadata": {},
   "outputs": [],
   "source": [
    "# Import pandas\n",
    "import pandas as pd"
   ]
  },
  {
   "cell_type": "code",
   "execution_count": 2,
   "metadata": {},
   "outputs": [],
   "source": [
    "# Create a series of three different colours\n",
    "colors = pd.Series([\"Red\", \"Black\", \"Green\"])"
   ]
  },
  {
   "cell_type": "code",
   "execution_count": 3,
   "metadata": {},
   "outputs": [
    {
     "name": "stdout",
     "output_type": "stream",
     "text": [
      "0      Red\n",
      "1    Black\n",
      "2    Green\n",
      "dtype: object\n"
     ]
    }
   ],
   "source": [
    "# View the series of different colours\n",
    "print(colors)"
   ]
  },
  {
   "cell_type": "code",
   "execution_count": 5,
   "metadata": {},
   "outputs": [
    {
     "name": "stdout",
     "output_type": "stream",
     "text": [
      "0      Tesla\n",
      "1        BMW\n",
      "2    Porsche\n",
      "dtype: object\n"
     ]
    }
   ],
   "source": [
    "# Create a series of three different car types and view it\n",
    "car_types = pd.Series([\"Tesla\", \"BMW\", \"Porsche\"])\n",
    "print(car_types)"
   ]
  },
  {
   "cell_type": "code",
   "execution_count": 6,
   "metadata": {},
   "outputs": [
    {
     "name": "stdout",
     "output_type": "stream",
     "text": [
      "  Car_Type  Color\n",
      "0    Tesla    Red\n",
      "1      BMW  Black\n",
      "2  Porsche  Green\n"
     ]
    }
   ],
   "source": [
    "# Combine the Series of cars and colours into a DataFrame\n",
    "df = pd.DataFrame({\"Car_Type\": car_types, \"Color\": colors})\n",
    "print(df)"
   ]
  },
  {
   "cell_type": "code",
   "execution_count": 14,
   "metadata": {
    "scrolled": true
   },
   "outputs": [
    {
     "name": "stdout",
     "output_type": "stream",
     "text": [
      "     Make Colour  Odometer (KM)  Doors       Price\n",
      "0  Toyota  White         150043      4   $4,000.00\n",
      "1   Honda    Red          87899      4   $5,000.00\n",
      "2  Toyota   Blue          32549      3   $7,000.00\n",
      "3     BMW  Black          11179      5  $22,000.00\n",
      "4  Nissan  White         213095      4   $3,500.00\n",
      "5  Toyota  Green          99213      4   $4,500.00\n",
      "6   Honda   Blue          45698      4   $7,500.00\n",
      "7   Honda   Blue          54738      4   $7,000.00\n",
      "8  Toyota  White          60000      4   $6,250.00\n",
      "9  Nissan  White          31600      4   $9,700.00\n"
     ]
    }
   ],
   "source": [
    "# Import \"../data/car-sales.csv\" and turn it into a DataFrame\n",
    "df = pd.read_csv(\"data/car-sales.csv\")\n",
    "print(df)"
   ]
  },
  {
   "cell_type": "markdown",
   "metadata": {},
   "source": [
    "**Note:** Since you've imported `../data/car-sales.csv` as a DataFrame, we'll now refer to this DataFrame as 'the car sales DataFrame'."
   ]
  },
  {
   "cell_type": "code",
   "execution_count": 19,
   "metadata": {},
   "outputs": [],
   "source": [
    "# Export the DataFrame you created to a .csv file\n",
    "df.to_csv(\"data/car-sales.csv\", index=False)"
   ]
  },
  {
   "cell_type": "code",
   "execution_count": 20,
   "metadata": {},
   "outputs": [
    {
     "name": "stdout",
     "output_type": "stream",
     "text": [
      "Make             object\n",
      "Colour           object\n",
      "Odometer (KM)     int64\n",
      "Doors             int64\n",
      "Price            object\n",
      "dtype: object\n"
     ]
    }
   ],
   "source": [
    "# Find the different datatypes of the car data DataFrame\n",
    "datatypes = df.dtypes\n",
    "print(datatypes)"
   ]
  },
  {
   "cell_type": "code",
   "execution_count": 21,
   "metadata": {},
   "outputs": [
    {
     "name": "stdout",
     "output_type": "stream",
     "text": [
      "       Odometer (KM)      Doors\n",
      "count      10.000000  10.000000\n",
      "mean    78601.400000   4.000000\n",
      "std     61983.471735   0.471405\n",
      "min     11179.000000   3.000000\n",
      "25%     35836.250000   4.000000\n",
      "50%     57369.000000   4.000000\n",
      "75%     96384.500000   4.000000\n",
      "max    213095.000000   5.000000\n"
     ]
    }
   ],
   "source": [
    "# Describe your current car sales DataFrame using describe()\n",
    "description = df.describe()\n",
    "print(description)"
   ]
  },
  {
   "cell_type": "code",
   "execution_count": 22,
   "metadata": {},
   "outputs": [
    {
     "name": "stdout",
     "output_type": "stream",
     "text": [
      "<class 'pandas.core.frame.DataFrame'>\n",
      "RangeIndex: 10 entries, 0 to 9\n",
      "Data columns (total 5 columns):\n",
      " #   Column         Non-Null Count  Dtype \n",
      "---  ------         --------------  ----- \n",
      " 0   Make           10 non-null     object\n",
      " 1   Colour         10 non-null     object\n",
      " 2   Odometer (KM)  10 non-null     int64 \n",
      " 3   Doors          10 non-null     int64 \n",
      " 4   Price          10 non-null     object\n",
      "dtypes: int64(2), object(3)\n",
      "memory usage: 532.0+ bytes\n",
      "None\n"
     ]
    }
   ],
   "source": [
    "# Get information about your DataFrame using info()\n",
    "information = df.info()\n",
    "print(information)"
   ]
  },
  {
   "cell_type": "markdown",
   "metadata": {},
   "source": [
    "What does it show you?"
   ]
  },
  {
   "cell_type": "code",
   "execution_count": 23,
   "metadata": {},
   "outputs": [
    {
     "name": "stdout",
     "output_type": "stream",
     "text": [
      "The mean of the numbers is: 58.25\n"
     ]
    }
   ],
   "source": [
    "# Create a Series of different numbers and find the mean of them\n",
    "numbers = pd.Series([42, 69, 94, 28])\n",
    "\n",
    "# Find the mean of the n\n",
    "mean = numbers.mean()\n",
    "print(\"The mean of the numbers is:\", mean)"
   ]
  },
  {
   "cell_type": "code",
   "execution_count": 25,
   "metadata": {},
   "outputs": [
    {
     "name": "stdout",
     "output_type": "stream",
     "text": [
      "The sum of the numbers is: 233\n"
     ]
    }
   ],
   "source": [
    "# Create a Series of different numbers and find the sum of them\n",
    "numbers = pd.Series([42, 69, 94, 28])\n",
    "\n",
    "# Find the sum of the n\n",
    "sum_of_nums = numbers.sum()\n",
    "print(\"The sum of the numbers is:\", sum_of_nums)"
   ]
  },
  {
   "cell_type": "code",
   "execution_count": 26,
   "metadata": {},
   "outputs": [
    {
     "name": "stdout",
     "output_type": "stream",
     "text": [
      "The column names of the DataFrame are: ['Make', 'Colour', 'Odometer (KM)', 'Doors', 'Price']\n"
     ]
    }
   ],
   "source": [
    "# List out all the column names of the car sales DataFrame\n",
    "column_names = df.columns\n",
    "print(\"The column names of the DataFrame are:\", list(column_names))"
   ]
  },
  {
   "cell_type": "code",
   "execution_count": 32,
   "metadata": {},
   "outputs": [
    {
     "name": "stdout",
     "output_type": "stream",
     "text": [
      "The length of the DataFrame is: 10\n"
     ]
    }
   ],
   "source": [
    "# Find the length of the car sales DataFrame\n",
    "length = len(df)\n",
    "print(\"The length of the DataFrame is:\", length)"
   ]
  },
  {
   "cell_type": "code",
   "execution_count": 33,
   "metadata": {
    "scrolled": true
   },
   "outputs": [
    {
     "name": "stdout",
     "output_type": "stream",
     "text": [
      "     Make Colour  Odometer (KM)  Doors       Price\n",
      "0  Toyota  White         150043      4   $4,000.00\n",
      "1   Honda    Red          87899      4   $5,000.00\n",
      "2  Toyota   Blue          32549      3   $7,000.00\n",
      "3     BMW  Black          11179      5  $22,000.00\n",
      "4  Nissan  White         213095      4   $3,500.00\n"
     ]
    }
   ],
   "source": [
    "# Show the first 5 rows of the car sales DataFrame\n",
    "first_5_rows = df.head()\n",
    "\n",
    "print(first_5_rows)"
   ]
  },
  {
   "cell_type": "code",
   "execution_count": 38,
   "metadata": {},
   "outputs": [
    {
     "name": "stdout",
     "output_type": "stream",
     "text": [
      "     Make Colour  Odometer (KM)  Doors       Price\n",
      "0  Toyota  White         150043      4   $4,000.00\n",
      "1   Honda    Red          87899      4   $5,000.00\n",
      "2  Toyota   Blue          32549      3   $7,000.00\n",
      "3     BMW  Black          11179      5  $22,000.00\n",
      "4  Nissan  White         213095      4   $3,500.00\n"
     ]
    }
   ],
   "source": [
    "# Show the first 7 rows of the car sales DataFrame\n",
    "first_7_rows = df.head()\n",
    "\n",
    "print(first_7_rows)"
   ]
  },
  {
   "cell_type": "code",
   "execution_count": 39,
   "metadata": {},
   "outputs": [
    {
     "name": "stdout",
     "output_type": "stream",
     "text": [
      "     Make Colour  Odometer (KM)  Doors      Price\n",
      "5  Toyota  Green          99213      4  $4,500.00\n",
      "6   Honda   Blue          45698      4  $7,500.00\n",
      "7   Honda   Blue          54738      4  $7,000.00\n",
      "8  Toyota  White          60000      4  $6,250.00\n",
      "9  Nissan  White          31600      4  $9,700.00\n"
     ]
    }
   ],
   "source": [
    "# Show the bottom 5 rows of the car sales DataFrame\n",
    "last_5_rows = df.tail()\n",
    "\n",
    "print(last_5_rows)"
   ]
  },
  {
   "cell_type": "code",
   "execution_count": 40,
   "metadata": {},
   "outputs": [
    {
     "name": "stdout",
     "output_type": "stream",
     "text": [
      "Make                    BMW\n",
      "Colour                Black\n",
      "Odometer (KM)         11179\n",
      "Doors                     5\n",
      "Price            $22,000.00\n",
      "Name: 3, dtype: object\n"
     ]
    }
   ],
   "source": [
    "# Use .loc to select the row at index 3 of the car sales DataFrame\n",
    "row_at_index_3 = df.loc[3]\n",
    "\n",
    "print(row_at_index_3)"
   ]
  },
  {
   "cell_type": "code",
   "execution_count": 41,
   "metadata": {},
   "outputs": [
    {
     "name": "stdout",
     "output_type": "stream",
     "text": [
      "Make                    BMW\n",
      "Colour                Black\n",
      "Odometer (KM)         11179\n",
      "Doors                     5\n",
      "Price            $22,000.00\n",
      "Name: 3, dtype: object\n"
     ]
    }
   ],
   "source": [
    "# Use .iloc to select the row at position 3 of the car sales DataFrame\n",
    "row_at_pos_3 = df.iloc[3]\n",
    "\n",
    "print(row_at_pos_3)"
   ]
  },
  {
   "cell_type": "markdown",
   "metadata": {},
   "source": [
    "Notice how they're the same? Why do you think this is? \n",
    "\n",
    "Check the pandas documentation for [.loc](https://pandas.pydata.org/pandas-docs/stable/reference/api/pandas.DataFrame.loc.html) and [.iloc](https://pandas.pydata.org/pandas-docs/stable/reference/api/pandas.DataFrame.iloc.html). Think about a different situation each could be used for and try them out."
   ]
  },
  {
   "cell_type": "code",
   "execution_count": 42,
   "metadata": {},
   "outputs": [
    {
     "name": "stdout",
     "output_type": "stream",
     "text": [
      "0    150043\n",
      "1     87899\n",
      "2     32549\n",
      "3     11179\n",
      "4    213095\n",
      "5     99213\n",
      "6     45698\n",
      "7     54738\n",
      "8     60000\n",
      "9     31600\n",
      "Name: Odometer (KM), dtype: int64\n"
     ]
    }
   ],
   "source": [
    "# Select the \"Odometer (KM)\" column from the car sales DataFrame\n",
    "odometer_column = df[\"Odometer (KM)\"]\n",
    "\n",
    "print(odometer_column)"
   ]
  },
  {
   "cell_type": "code",
   "execution_count": 43,
   "metadata": {},
   "outputs": [
    {
     "name": "stdout",
     "output_type": "stream",
     "text": [
      "The mean of the 'Odometer (KM)' column is: 78601.4\n"
     ]
    }
   ],
   "source": [
    "# Find the mean of the \"Odometer (KM)\" column in the car sales DataFrame\n",
    "odometer_mean = df[\"Odometer (KM)\"].mean()\n",
    "\n",
    "print(\"The mean of the 'Odometer (KM)' column is:\", odometer_mean)"
   ]
  },
  {
   "cell_type": "code",
   "execution_count": 44,
   "metadata": {},
   "outputs": [
    {
     "name": "stdout",
     "output_type": "stream",
     "text": [
      "     Make Colour  Odometer (KM)  Doors      Price\n",
      "0  Toyota  White         150043      4  $4,000.00\n",
      "4  Nissan  White         213095      4  $3,500.00\n"
     ]
    }
   ],
   "source": [
    "# Select the rows with over 100,000 kilometers on the Odometer\n",
    "over_100k = df[df[\"Odometer (KM)\"] > 100000]\n",
    "print(over_100k)"
   ]
  },
  {
   "cell_type": "code",
   "execution_count": 45,
   "metadata": {},
   "outputs": [
    {
     "name": "stdout",
     "output_type": "stream",
     "text": [
      "Doors   3  4  5\n",
      "Make           \n",
      "BMW     0  0  1\n",
      "Honda   0  3  0\n",
      "Nissan  0  2  0\n",
      "Toyota  1  3  0\n"
     ]
    }
   ],
   "source": [
    "# Create a crosstab of the Make and Doors columns\n",
    "crosstab = pd.crosstab(df[\"Make\"], df[\"Doors\"])\n",
    "print(crosstab)"
   ]
  },
  {
   "cell_type": "code",
   "execution_count": 47,
   "metadata": {},
   "outputs": [
    {
     "name": "stdout",
     "output_type": "stream",
     "text": [
      "        Odometer (KM)  Doors\n",
      "Make                        \n",
      "BMW      11179.000000   5.00\n",
      "Honda    62778.333333   4.00\n",
      "Nissan  122347.500000   4.00\n",
      "Toyota   85451.250000   3.75\n"
     ]
    },
    {
     "name": "stderr",
     "output_type": "stream",
     "text": [
      "/var/folders/n_/fw_q8rcd60g_d6mfrll_3mww0000gn/T/ipykernel_3424/4029894638.py:2: FutureWarning: The default value of numeric_only in DataFrameGroupBy.mean is deprecated. In a future version, numeric_only will default to False. Either specify numeric_only or select only columns which should be valid for the function.\n",
      "  grouped = df.groupby(\"Make\").mean()\n"
     ]
    }
   ],
   "source": [
    "# Group columns of the car sales DataFrame by the Make column and find the average\n",
    "grouped = df.groupby(\"Make\").mean()\n",
    "print(grouped)"
   ]
  },
  {
   "cell_type": "code",
   "execution_count": 49,
   "metadata": {},
   "outputs": [
    {
     "data": {
      "image/png": "[encoded data removed]",
      "text/plain": [
       "<Figure size 640x480 with 1 Axes>"
      ]
     },
     "metadata": {},
     "output_type": "display_data"
    }
   ],
   "source": [
    "# Import Matplotlib and create a plot of the Odometer column\n",
    "# Don't forget to use %matplotlib inline\n",
    "import matplotlib.pyplot as plt\n",
    "\n",
    "%matplotlib inline\n",
    "\n",
    "plt.plot(df[\"Odometer (KM)\"])\n",
    "\n",
    "plt.show()"
   ]
  },
  {
   "cell_type": "code",
   "execution_count": 51,
   "metadata": {},
   "outputs": [
    {
     "data": {
      "image/png": "[encoded data removed]",
      "text/plain": [
       "<Figure size 640x480 with 1 Axes>"
      ]
     },
     "metadata": {},
     "output_type": "display_data"
    }
   ],
   "source": [
    "# Create a histogram of the Odometer column using hist()\n",
    "plt.hist(df[\"Odometer (KM)\"], bins=10)\n",
    "\n",
    "# Give the plot a title and label the axes\n",
    "plt.title(\"Histogram of Odometer Readings\")\n",
    "plt.xlabel(\"Odometer (KM)\")\n",
    "plt.ylabel(\"Frequency\")\n",
    "\n",
    "# Display the plot\n",
    "plt.show()"
   ]
  },
  {
   "cell_type": "code",
   "execution_count": 52,
   "metadata": {},
   "outputs": [
    {
     "data": {
      "image/png": "[encoded data removed]",
      "text/plain": [
       "<Figure size 640x480 with 1 Axes>"
      ]
     },
     "metadata": {},
     "output_type": "display_data"
    }
   ],
   "source": [
    "# Try to plot the Price column using plot()\n",
    "plt.plot(df[\"Price\"])\n",
    "\n",
    "# Give the plot a title and label the axes\n",
    "plt.title(\"Price Plot\")\n",
    "plt.xlabel(\"Index\")\n",
    "plt.ylabel(\"Price\")\n",
    "\n",
    "# Display the plot\n",
    "plt.show()"
   ]
  },
  {
   "cell_type": "markdown",
   "metadata": {},
   "source": [
    "Why didn't it work? Can you think of a solution?\n",
    "\n",
    "You might want to search for \"how to convert a pandas string column to numbers\".\n",
    "\n",
    "And if you're still stuck, check out this [Stack Overflow question and answer on turning a price column into integers](https://stackoverflow.com/questions/44469313/price-column-object-to-int-in-pandas).\n",
    "\n",
    "See how you can provide the example code there to the problem here."
   ]
  },
  {
   "cell_type": "code",
   "execution_count": 53,
   "metadata": {},
   "outputs": [
    {
     "name": "stdout",
     "output_type": "stream",
     "text": [
      "     Make Colour  Odometer (KM)  Doors    Price\n",
      "0  Toyota  White         150043      4   400000\n",
      "1   Honda    Red          87899      4   500000\n",
      "2  Toyota   Blue          32549      3   700000\n",
      "3     BMW  Black          11179      5  2200000\n",
      "4  Nissan  White         213095      4   350000\n",
      "5  Toyota  Green          99213      4   450000\n",
      "6   Honda   Blue          45698      4   750000\n",
      "7   Honda   Blue          54738      4   700000\n",
      "8  Toyota  White          60000      4   625000\n",
      "9  Nissan  White          31600      4   970000\n"
     ]
    }
   ],
   "source": [
    "# Remove the punctuation from price column\n",
    "df[\"Price\"] = df[\"Price\"].str.replace('[\\$\\,\\.]', '', regex=True)\n",
    "\n",
    "# Display the updated DataFrame\n",
    "print(df)"
   ]
  },
  {
   "cell_type": "code",
   "execution_count": 55,
   "metadata": {},
   "outputs": [
    {
     "name": "stdout",
     "output_type": "stream",
     "text": [
      "0     400000\n",
      "1     500000\n",
      "2     700000\n",
      "3    2200000\n",
      "4     350000\n",
      "5     450000\n",
      "6     750000\n",
      "7     700000\n",
      "8     625000\n",
      "9     970000\n",
      "Name: Price, dtype: object\n"
     ]
    }
   ],
   "source": [
    "# Check the changes to the price column\n",
    "print(df[\"Price\"].head(10))"
   ]
  },
  {
   "cell_type": "code",
   "execution_count": 56,
   "metadata": {},
   "outputs": [
    {
     "name": "stdout",
     "output_type": "stream",
     "text": [
      "0     4000\n",
      "1     5000\n",
      "2     7000\n",
      "3    22000\n",
      "4     3500\n",
      "5     4500\n",
      "6     7500\n",
      "7     7000\n",
      "8     6250\n",
      "9     9700\n",
      "Name: Price, dtype: int64\n"
     ]
    }
   ],
   "source": [
    "# Remove the two extra zeros at the end of the price column\n",
    "df[\"Price\"] = df[\"Price\"].astype(int)\n",
    "\n",
    "df[\"Price\"] = df[\"Price\"] // 100\n",
    "\n",
    "print(df[\"Price\"].head(10))"
   ]
  },
  {
   "cell_type": "code",
   "execution_count": 57,
   "metadata": {},
   "outputs": [
    {
     "name": "stdout",
     "output_type": "stream",
     "text": [
      "0     4000\n",
      "1     5000\n",
      "2     7000\n",
      "3    22000\n",
      "4     3500\n",
      "5     4500\n",
      "6     7500\n",
      "7     7000\n",
      "8     6250\n",
      "9     9700\n",
      "Name: Price, dtype: int64\n"
     ]
    }
   ],
   "source": [
    "# Check the changes to the Price column\n",
    "print(df[\"Price\"].head(10))"
   ]
  },
  {
   "cell_type": "code",
   "execution_count": 58,
   "metadata": {},
   "outputs": [
    {
     "name": "stdout",
     "output_type": "stream",
     "text": [
      "<bound method NDFrame.head of      Make Colour  Odometer (KM)  Doors  Price\n",
      "0  Toyota  White         150043      4   4000\n",
      "1   Honda    Red          87899      4   5000\n",
      "2  Toyota   Blue          32549      3   7000\n",
      "3     BMW  Black          11179      5  22000\n",
      "4  Nissan  White         213095      4   3500\n",
      "5  Toyota  Green          99213      4   4500\n",
      "6   Honda   Blue          45698      4   7500\n",
      "7   Honda   Blue          54738      4   7000\n",
      "8  Toyota  White          60000      4   6250\n",
      "9  Nissan  White          31600      4   9700>\n"
     ]
    }
   ],
   "source": [
    "# Change the datatype of the Price column to integers\n",
    "df[\"Price\"] = df[\"Price\"].astype(int)\n",
    "print(df.head)"
   ]
  },
  {
   "cell_type": "code",
   "execution_count": 59,
   "metadata": {},
   "outputs": [
    {
     "name": "stdout",
     "output_type": "stream",
     "text": [
      "<bound method NDFrame.head of      Make Colour  Odometer (KM)  Doors  Price\n",
      "0  toyota  White         150043      4   4000\n",
      "1   honda    Red          87899      4   5000\n",
      "2  toyota   Blue          32549      3   7000\n",
      "3     bmw  Black          11179      5  22000\n",
      "4  nissan  White         213095      4   3500\n",
      "5  toyota  Green          99213      4   4500\n",
      "6   honda   Blue          45698      4   7500\n",
      "7   honda   Blue          54738      4   7000\n",
      "8  toyota  White          60000      4   6250\n",
      "9  nissan  White          31600      4   9700>\n"
     ]
    }
   ],
   "source": [
    "# Lower the strings of the Make column\n",
    "df[\"Make\"] = df[\"Make\"].str.lower()\n",
    "print(df.head)"
   ]
  },
  {
   "cell_type": "markdown",
   "metadata": {},
   "source": [
    "If you check the car sales DataFrame, you'll notice the Make column hasn't been lowered.\n",
    "\n",
    "How could you make these changes permanent?\n",
    "\n",
    "Try it out."
   ]
  },
  {
   "cell_type": "code",
   "execution_count": 60,
   "metadata": {},
   "outputs": [
    {
     "name": "stdout",
     "output_type": "stream",
     "text": [
      "     Make Colour  Odometer (KM)  Doors  Price\n",
      "0  toyota  White         150043      4   4000\n",
      "1   honda    Red          87899      4   5000\n",
      "2  toyota   Blue          32549      3   7000\n",
      "3     bmw  Black          11179      5  22000\n",
      "4  nissan  White         213095      4   3500\n"
     ]
    }
   ],
   "source": [
    "# Make lowering the case of the Make column permanent\n",
    "df[\"Make\"] = df[\"Make\"].str.lower()\n",
    "print(df.head())"
   ]
  },
  {
   "cell_type": "code",
   "execution_count": 61,
   "metadata": {},
   "outputs": [
    {
     "name": "stdout",
     "output_type": "stream",
     "text": [
      "     Make Colour  Odometer (KM)  Doors  Price\n",
      "0  toyota  White         150043      4   4000\n",
      "1   honda    Red          87899      4   5000\n",
      "2  toyota   Blue          32549      3   7000\n",
      "3     bmw  Black          11179      5  22000\n",
      "4  nissan  White         213095      4   3500\n",
      "<class 'pandas.core.frame.DataFrame'>\n",
      "RangeIndex: 10 entries, 0 to 9\n",
      "Data columns (total 5 columns):\n",
      " #   Column         Non-Null Count  Dtype \n",
      "---  ------         --------------  ----- \n",
      " 0   Make           10 non-null     object\n",
      " 1   Colour         10 non-null     object\n",
      " 2   Odometer (KM)  10 non-null     int64 \n",
      " 3   Doors          10 non-null     int64 \n",
      " 4   Price          10 non-null     int64 \n",
      "dtypes: int64(3), object(2)\n",
      "memory usage: 532.0+ bytes\n",
      "None\n"
     ]
    }
   ],
   "source": [
    "# Check the car sales DataFrame\n",
    "print(df.head())\n",
    "print(df.info())"
   ]
  },
  {
   "cell_type": "markdown",
   "metadata": {},
   "source": [
    "Notice how the Make column stays lowered after reassigning.\n",
    "\n",
    "Now let's deal with missing data."
   ]
  },
  {
   "cell_type": "code",
   "execution_count": 62,
   "metadata": {},
   "outputs": [
    {
     "name": "stdout",
     "output_type": "stream",
     "text": [
      "     Make Colour  Odometer  Doors    Price\n",
      "0  Toyota  White  150043.0    4.0   $4,000\n",
      "1   Honda    Red   87899.0    4.0   $5,000\n",
      "2  Toyota   Blue       NaN    3.0   $7,000\n",
      "3     BMW  Black   11179.0    5.0  $22,000\n",
      "4  Nissan  White  213095.0    4.0   $3,500\n"
     ]
    }
   ],
   "source": [
    "# Import the car sales DataFrame with missing data (\"../data/car-sales-missing-data.csv\")\n",
    "df_missing = pd.read_csv(\"data/car-sales-missing-data.csv\")\n",
    "\n",
    "# Check out the new DataFrame\n",
    "print(df_missing.head())\n"
   ]
  },
  {
   "cell_type": "markdown",
   "metadata": {},
   "source": [
    "Notice the missing values are represented as `NaN` in pandas DataFrames.\n",
    "\n",
    "Let's try fill them."
   ]
  },
  {
   "cell_type": "code",
   "execution_count": 63,
   "metadata": {},
   "outputs": [
    {
     "name": "stdout",
     "output_type": "stream",
     "text": [
      "     Make Colour       Odometer  Doors    Price\n",
      "0  Toyota  White  150043.000000    4.0   $4,000\n",
      "1   Honda    Red   87899.000000    4.0   $5,000\n",
      "2  Toyota   Blue   92302.666667    3.0   $7,000\n",
      "3     BMW  Black   11179.000000    5.0  $22,000\n",
      "4  Nissan  White  213095.000000    4.0   $3,500\n"
     ]
    }
   ],
   "source": [
    "# Fill the Odometer column missing values with the mean of the column inplace\n",
    "\n",
    "# Calculate the mean of the Odometer column\n",
    "odometer_mean = df_missing[\"Odometer\"].mean()\n",
    "\n",
    "# Fill the missing values in the Odometer column with the mean\n",
    "df_missing[\"Odometer\"].fillna(odometer_mean, inplace=True)\n",
    "\n",
    "# Display the DataFrame to verify the changes\n",
    "print(df_missing.head())\n"
   ]
  },
  {
   "cell_type": "code",
   "execution_count": 64,
   "metadata": {},
   "outputs": [
    {
     "name": "stdout",
     "output_type": "stream",
     "text": [
      "     Make Colour       Odometer  Doors    Price\n",
      "0  Toyota  White  150043.000000    4.0   $4,000\n",
      "1   Honda    Red   87899.000000    4.0   $5,000\n",
      "2  Toyota   Blue   92302.666667    3.0   $7,000\n",
      "3     BMW  Black   11179.000000    5.0  $22,000\n",
      "4  Nissan  White  213095.000000    4.0   $3,500\n",
      "<class 'pandas.core.frame.DataFrame'>\n",
      "RangeIndex: 10 entries, 0 to 9\n",
      "Data columns (total 5 columns):\n",
      " #   Column    Non-Null Count  Dtype  \n",
      "---  ------    --------------  -----  \n",
      " 0   Make      9 non-null      object \n",
      " 1   Colour    9 non-null      object \n",
      " 2   Odometer  10 non-null     float64\n",
      " 3   Doors     9 non-null      float64\n",
      " 4   Price     8 non-null      object \n",
      "dtypes: float64(2), object(3)\n",
      "memory usage: 532.0+ bytes\n",
      "None\n"
     ]
    }
   ],
   "source": [
    "# View the car sales missing DataFrame and verify the changes\n",
    "print(df_missing.head())\n",
    "print(df_missing.info())"
   ]
  },
  {
   "cell_type": "code",
   "execution_count": 65,
   "metadata": {},
   "outputs": [
    {
     "name": "stdout",
     "output_type": "stream",
     "text": [
      "     Make Colour       Odometer  Doors    Price\n",
      "0  Toyota  White  150043.000000    4.0   $4,000\n",
      "1   Honda    Red   87899.000000    4.0   $5,000\n",
      "2  Toyota   Blue   92302.666667    3.0   $7,000\n",
      "3     BMW  Black   11179.000000    5.0  $22,000\n",
      "4  Nissan  White  213095.000000    4.0   $3,500\n"
     ]
    }
   ],
   "source": [
    "# Remove the rest of the missing data inplace\n",
    "df_missing.dropna(inplace=True)\n",
    "print(df_missing.head())"
   ]
  },
  {
   "cell_type": "code",
   "execution_count": 67,
   "metadata": {},
   "outputs": [
    {
     "name": "stdout",
     "output_type": "stream",
     "text": [
      "<class 'pandas.core.frame.DataFrame'>\n",
      "Int64Index: 6 entries, 0 to 5\n",
      "Data columns (total 5 columns):\n",
      " #   Column    Non-Null Count  Dtype  \n",
      "---  ------    --------------  -----  \n",
      " 0   Make      6 non-null      object \n",
      " 1   Colour    6 non-null      object \n",
      " 2   Odometer  6 non-null      float64\n",
      " 3   Doors     6 non-null      float64\n",
      " 4   Price     6 non-null      object \n",
      "dtypes: float64(2), object(3)\n",
      "memory usage: 288.0+ bytes\n",
      "None\n",
      "Make        0\n",
      "Colour      0\n",
      "Odometer    0\n",
      "Doors       0\n",
      "Price       0\n",
      "dtype: int64\n"
     ]
    }
   ],
   "source": [
    "# Verify the missing values are removed by viewing the DataFrame\n",
    "print(df_missing.info())\n",
    "print(df_missing.isnull().sum())"
   ]
  },
  {
   "cell_type": "markdown",
   "metadata": {},
   "source": [
    "We'll now start to add columns to our DataFrame."
   ]
  },
  {
   "cell_type": "code",
   "execution_count": 68,
   "metadata": {},
   "outputs": [
    {
     "name": "stdout",
     "output_type": "stream",
     "text": [
      "     Make Colour       Odometer  Doors    Price  Seats\n",
      "0  Toyota  White  150043.000000    4.0   $4,000      5\n",
      "1   Honda    Red   87899.000000    4.0   $5,000      5\n",
      "2  Toyota   Blue   92302.666667    3.0   $7,000      5\n",
      "3     BMW  Black   11179.000000    5.0  $22,000      5\n",
      "4  Nissan  White  213095.000000    4.0   $3,500      5\n"
     ]
    }
   ],
   "source": [
    "# Create a \"Seats\" column where every row has a value of 5\n",
    "df_missing[\"Seats\"] = 5\n",
    "print(df_missing.head())"
   ]
  },
  {
   "cell_type": "code",
   "execution_count": 80,
   "metadata": {},
   "outputs": [
    {
     "name": "stdout",
     "output_type": "stream",
     "text": [
      "     Make Colour       Odometer  Doors    Price  Seats  Engine Size\n",
      "0  Toyota  White  150043.000000    4.0   $4,000      5     4.294365\n",
      "1   Honda    Red   87899.000000    4.0   $5,000      5     2.280706\n",
      "2  Toyota   Blue   92302.666667    3.0   $7,000      5     2.799413\n",
      "3     BMW  Black   11179.000000    5.0  $22,000      5     4.435903\n",
      "4  Nissan  White  213095.000000    4.0   $3,500      5     1.340460\n"
     ]
    }
   ],
   "source": [
    "# Create a column called \"Engine Size\" with random values between 1.3 and 4.5\n",
    "# Get the length of the DataFrame\n",
    "import numpy as np\n",
    "\n",
    "length = len(df_missing)\n",
    "\n",
    "# Create a \"Engine Size\" column with random values between 1.3 and 4.5\n",
    "df_missing[\"Engine Size\"] = np.random.uniform(1.3, 4.5, length)\n",
    "\n",
    "# Display the DataFrame to verify the changes\n",
    "print(df_missing.head())\n",
    "\n"
   ]
  },
  {
   "cell_type": "code",
   "execution_count": 92,
   "metadata": {},
   "outputs": [
    {
     "ename": "TypeError",
     "evalue": "'int' object is not subscriptable",
     "output_type": "error",
     "traceback": [
      "\u001b[0;31m---------------------------------------------------------------------------\u001b[0m",
      "\u001b[0;31mTypeError\u001b[0m                                 Traceback (most recent call last)",
      "Cell \u001b[0;32mIn[92], line 3\u001b[0m\n\u001b[1;32m      1\u001b[0m \u001b[38;5;66;03m# Create a column which represents the price of a car per kilometer\u001b[39;00m\n\u001b[1;32m      2\u001b[0m \u001b[38;5;66;03m# Then view the DataFrame\u001b[39;00m\n\u001b[0;32m----> 3\u001b[0m car_sales[\u001b[38;5;124m\"\u001b[39m\u001b[38;5;124mPrice per KM\u001b[39m\u001b[38;5;124m\"\u001b[39m] \u001b[38;5;241m=\u001b[39m car_sales[\u001b[38;5;124m\"\u001b[39m\u001b[38;5;124mPrice\u001b[39m\u001b[38;5;124m\"\u001b[39m] \u001b[38;5;241m/\u001b[39m car_sales[\u001b[38;5;124m\"\u001b[39m\u001b[38;5;124mOdometer (KM)\u001b[39m\u001b[38;5;124m\"\u001b[39m]\n\u001b[1;32m      4\u001b[0m car_sales\n",
      "\u001b[0;31mTypeError\u001b[0m: 'int' object is not subscriptable"
     ]
    }
   ],
   "source": [
    "# Create a column which represents the price of a car per kilometer\n",
    "# Then view the DataFrame\n",
    "car_sales[\"Price per KM\"] = car_sales[\"Price\"] / car_sales[\"Odometer (KM)\"]\n",
    "car_sales\n"
   ]
  },
  {
   "cell_type": "code",
   "execution_count": 93,
   "metadata": {},
   "outputs": [
    {
     "ename": "AttributeError",
     "evalue": "'int' object has no attribute 'drop'",
     "output_type": "error",
     "traceback": [
      "\u001b[0;31m---------------------------------------------------------------------------\u001b[0m",
      "\u001b[0;31mAttributeError\u001b[0m                            Traceback (most recent call last)",
      "Cell \u001b[0;32mIn[93], line 2\u001b[0m\n\u001b[1;32m      1\u001b[0m \u001b[38;5;66;03m# Remove the last column you added using .drop()\u001b[39;00m\n\u001b[0;32m----> 2\u001b[0m car_sales \u001b[38;5;241m=\u001b[39m car_sales\u001b[38;5;241m.\u001b[39mdrop(\u001b[38;5;124m\"\u001b[39m\u001b[38;5;124mPrice per KM\u001b[39m\u001b[38;5;124m\"\u001b[39m, axis\u001b[38;5;241m=\u001b[39m\u001b[38;5;241m1\u001b[39m)\n\u001b[1;32m      3\u001b[0m car_sales\n",
      "\u001b[0;31mAttributeError\u001b[0m: 'int' object has no attribute 'drop'"
     ]
    }
   ],
   "source": [
    "# Remove the last column you added using .drop()\n",
    "car_sales = car_sales.drop(\"Price per KM\", axis=1)\n",
    "car_sales\n"
   ]
  },
  {
   "cell_type": "code",
   "execution_count": 87,
   "metadata": {},
   "outputs": [
    {
     "name": "stdout",
     "output_type": "stream",
     "text": [
      "     Make Colour       Odometer  Doors    Price  Seats  Engine Size\n",
      "5  Toyota  Green   92302.666667    4.0   $4,500      5     3.397728\n",
      "1   Honda    Red   87899.000000    4.0   $5,000      5     2.280706\n",
      "4  Nissan  White  213095.000000    4.0   $3,500      5     1.340460\n",
      "3     BMW  Black   11179.000000    5.0  $22,000      5     4.435903\n",
      "2  Toyota   Blue   92302.666667    3.0   $7,000      5     2.799413\n"
     ]
    }
   ],
   "source": [
    "# Shuffle the DataFrame using sample() with the frac parameter set to 1\n",
    "# Save the the shuffled DataFrame to a new variable\n",
    "shuffled_df = df_missing.sample(frac=1)\n",
    "\n",
    "# View the shuffled DataFrame\n",
    "print(shuffled_df.head())"
   ]
  },
  {
   "cell_type": "markdown",
   "metadata": {},
   "source": [
    "Notice how the index numbers get moved around. The [`sample()`](https://pandas.pydata.org/pandas-docs/stable/reference/api/pandas.DataFrame.sample.html) function is a great way to get random samples from your DataFrame. It's also another great way to shuffle the rows by setting `frac=1`."
   ]
  },
  {
   "cell_type": "code",
   "execution_count": 88,
   "metadata": {},
   "outputs": [
    {
     "name": "stdout",
     "output_type": "stream",
     "text": [
      "     Make Colour       Odometer  Doors    Price  Seats  Engine Size\n",
      "0  Toyota  Green   92302.666667    4.0   $4,500      5     3.397728\n",
      "1   Honda    Red   87899.000000    4.0   $5,000      5     2.280706\n",
      "2  Nissan  White  213095.000000    4.0   $3,500      5     1.340460\n",
      "3     BMW  Black   11179.000000    5.0  $22,000      5     4.435903\n",
      "4  Toyota   Blue   92302.666667    3.0   $7,000      5     2.799413\n"
     ]
    }
   ],
   "source": [
    "# Reset the indexes of the shuffled DataFrame\n",
    "shuffled_df.reset_index(drop=True, inplace=True)\n",
    "print(shuffled_df.head())"
   ]
  },
  {
   "cell_type": "markdown",
   "metadata": {},
   "source": [
    "Notice the index numbers have been changed to have order (start from 0)."
   ]
  },
  {
   "cell_type": "code",
   "execution_count": 94,
   "metadata": {},
   "outputs": [
    {
     "ename": "TypeError",
     "evalue": "'int' object is not subscriptable",
     "output_type": "error",
     "traceback": [
      "\u001b[0;31m---------------------------------------------------------------------------\u001b[0m",
      "\u001b[0;31mTypeError\u001b[0m                                 Traceback (most recent call last)",
      "Cell \u001b[0;32mIn[94], line 3\u001b[0m\n\u001b[1;32m      1\u001b[0m \u001b[38;5;66;03m# Change the Odometer values from kilometers to miles using a Lambda function\u001b[39;00m\n\u001b[1;32m      2\u001b[0m \u001b[38;5;66;03m# Then view the DataFrame\u001b[39;00m\n\u001b[0;32m----> 3\u001b[0m car_sales[\u001b[38;5;124m\"\u001b[39m\u001b[38;5;124mOdometer (KM)\u001b[39m\u001b[38;5;124m\"\u001b[39m] \u001b[38;5;241m=\u001b[39m car_sales[\u001b[38;5;124m\"\u001b[39m\u001b[38;5;124mOdometer (KM)\u001b[39m\u001b[38;5;124m\"\u001b[39m]\u001b[38;5;241m.\u001b[39mapply(\u001b[38;5;28;01mlambda\u001b[39;00m x: x\u001b[38;5;241m/\u001b[39m\u001b[38;5;241m1.6\u001b[39m)\n\u001b[1;32m      4\u001b[0m car_sales\n",
      "\u001b[0;31mTypeError\u001b[0m: 'int' object is not subscriptable"
     ]
    }
   ],
   "source": [
    "# Change the Odometer values from kilometers to miles using a Lambda function\n",
    "# Then view the DataFrame\n",
    "car_sales[\"Odometer (KM)\"] = car_sales[\"Odometer (KM)\"].apply(lambda x: x/1.6)\n",
    "car_sales\n",
    "\n"
   ]
  },
  {
   "cell_type": "code",
   "execution_count": 90,
   "metadata": {},
   "outputs": [
    {
     "name": "stdout",
     "output_type": "stream",
     "text": [
      "     Make Colour       Odometer  Doors    Price  Seats  Engine Size\n",
      "0  Toyota  Green   92302.666667    4.0   $4,500      5     3.397728\n",
      "1   Honda    Red   87899.000000    4.0   $5,000      5     2.280706\n",
      "2  Nissan  White  213095.000000    4.0   $3,500      5     1.340460\n",
      "3     BMW  Black   11179.000000    5.0  $22,000      5     4.435903\n",
      "4  Toyota   Blue   92302.666667    3.0   $7,000      5     2.799413\n"
     ]
    }
   ],
   "source": [
    "# Change the title of the Odometer (KM) to represent miles instead of kilometers\n",
    "shuffled_df.rename(columns={\"Odometer (KM)\": \"Odometer (Miles)\"}, inplace=True)\n",
    "print(shuffled_df.head())\n"
   ]
  },
  {
   "cell_type": "markdown",
   "metadata": {},
   "source": [
    "## Extensions\n",
    "\n",
    "For more exercises, check out the pandas documentation, particularly the [10-minutes to pandas section](https://pandas.pydata.org/pandas-docs/stable/user_guide/10min.html). \n",
    "\n",
    "One great exercise would be to retype out the entire section into a Jupyter Notebook of your own.\n",
    "\n",
    "Get hands-on with the code and see what it does.\n",
    "\n",
    "The next place you should check out are the [top questions and answers on Stack Overflow for pandas](https://stackoverflow.com/questions/tagged/pandas?sort=MostVotes&edited=true). Often, these contain some of the most useful and common pandas functions. Be sure to play around with the different filters!\n",
    "\n",
    "Finally, always remember, the best way to learn something new to is try it. Make mistakes. Ask questions, get things wrong, take note of the things you do most often. And don't worry if you keep making the same mistake, pandas has many ways to do the same thing and is a big library. So it'll likely take a while before you get the hang of it."
   ]
  }
 ],
 "metadata": {
  "kernelspec": {
   "display_name": "Python 3 (ipykernel)",
   "language": "python",
   "name": "python3"
  },
  "language_info": {
   "codemirror_mode": {
    "name": "ipython",
    "version": 3
   },
   "file_extension": ".py",
   "mimetype": "text/x-python",
   "name": "python",
   "nbconvert_exporter": "python",
   "pygments_lexer": "ipython3",
   "version": "3.11.4"
  }
 },
 "nbformat": 4,
 "nbformat_minor": 2
}
